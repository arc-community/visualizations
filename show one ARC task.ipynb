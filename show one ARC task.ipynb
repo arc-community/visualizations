{
 "cells": [
  {
   "cell_type": "markdown",
   "metadata": {},
   "source": [
    "# Plot one json file from the ARC challenge\n",
    "by Jack Cole (Parapraxis), Mindware Consulting, Inc.\n",
    "\n",
    "Some code adapted from https://www.kaggle.com/code/boliu0/visualizing-all-task-pairs-with-gridlines/notebook.\n",
    "\n",
    "Select the file in the 3rd code box."
   ]
  },
  {
   "cell_type": "code",
   "execution_count": null,
   "metadata": {},
   "outputs": [],
   "source": [
    "%pip install ipyfilechooser"
   ]
  },
  {
   "cell_type": "code",
   "execution_count": 1,
   "metadata": {},
   "outputs": [],
   "source": [
    "#import the libraries\n",
    "import numpy as np\n",
    "import pandas as pd\n",
    "import ipyfilechooser as fc\n",
    "\n",
    "import os\n",
    "import json\n",
    "from pathlib import Path\n",
    "\n",
    "import matplotlib.pyplot as plt\n",
    "from matplotlib import colors"
   ]
  },
  {
   "cell_type": "code",
   "execution_count": 5,
   "metadata": {},
   "outputs": [
    {
     "data": {
      "application/vnd.jupyter.widget-view+json": {
       "model_id": "5ff914ed2bf547f88cb2c97abaecdb25",
       "version_major": 2,
       "version_minor": 0
      },
      "text/plain": [
       "FileChooser(path='C:\\Users\\Acer\\Desktop\\ARC Challenge\\my_arc_repo_github', filename='', title='', show_hidden=…"
      ]
     },
     "metadata": {},
     "output_type": "display_data"
    }
   ],
   "source": [
    "show_results_only = False\n",
    "\n",
    "data_folder = Path('./')\n",
    "fchoose = fc.FileChooser(data_folder)\n",
    "display(fchoose)\n",
    "\n",
    "\n"
   ]
  },
  {
   "cell_type": "code",
   "execution_count": 6,
   "metadata": {},
   "outputs": [],
   "source": [
    "def plot_one(ax, task, i,train_or_test,input_or_output, extra_text='', result_index=0):\n",
    "    cmap = colors.ListedColormap(\n",
    "        ['#000000', '#0074D9','#FF4136','#2ECC40','#FFDC00',\n",
    "         '#AAAAAA', '#F012BE', '#FF851B', '#7FDBFF', '#870C25'])\n",
    "    norm = colors.Normalize(vmin=0, vmax=9)\n",
    "    if input_or_output=='result':\n",
    "        input_matrix = task[train_or_test][i][input_or_output][result_index]\n",
    "    else:\n",
    "        input_matrix = task[train_or_test][i][input_or_output]\n",
    "    ax.imshow(input_matrix, cmap=cmap, norm=norm)\n",
    "    ax.grid(True,which='both',color='lightgrey', linewidth=0.5)    \n",
    "    ax.set_yticks([x-0.5 for x in range(1+len(input_matrix))])\n",
    "    ax.set_xticks([x-0.5 for x in range(1+len(input_matrix[0]))])     \n",
    "    ax.set_xticklabels([])\n",
    "    ax.set_yticklabels([])\n",
    "    if input_or_output=='result':\n",
    "        ax.set_title(extra_text + ' ' + str(result_index+1))\n",
    "    else:\n",
    "        ax.set_title(train_or_test + ' '+input_or_output)\n",
    "    \n",
    "\n",
    "def plot_task(task, extra_result_text=[]):\n",
    "    \"\"\"\n",
    "    Plots the first train and test pairs of a specified task,\n",
    "    using same color scheme as the ARC app\n",
    "    \"\"\"    \n",
    "    # skip the train plots if show_results_only is True\n",
    "    if show_results_only==False:\n",
    "        num_train = len(task['train'])\n",
    "        fig, axs = plt.subplots(2, num_train, figsize=(3*num_train,3*2))\n",
    "        for i in range(num_train):     \n",
    "            plot_one(axs[0,i],task,i,'train','input')\n",
    "            plot_one(axs[1,i],task,i,'train','output')\n",
    "        plt.tight_layout()\n",
    "        plt.show()        \n",
    "        \n",
    "    \n",
    "    num_test = len(task['test'])\n",
    " \n",
    "    if num_test==1:\n",
    "        fig, axs = plt.subplots(1, 2, figsize=(3*2,3*3))\n",
    "    else:\n",
    "        fig, axs = plt.subplots(3, num_test, figsize=(3*num_test,3*3))\n",
    "    \n",
    "    if num_test==1: \n",
    "        plot_one(axs[0],task,0,'test','input')\n",
    "        plot_one(axs[1],task,0,'test','output')\n",
    "        #plot_one(axs[2],0,'test','result', extra_result_text)\n",
    "    else:\n",
    "        for i in range(num_test):      \n",
    "            plot_one(axs[0,i],task,i,'test','input')\n",
    "            plot_one(axs[1,i],task,i,'test','output')  \n",
    "    plt.tight_layout()\n",
    "    plt.show() \n",
    "\n",
    "    "
   ]
  },
  {
   "cell_type": "code",
   "execution_count": 7,
   "metadata": {},
   "outputs": [
    {
     "name": "stdout",
     "output_type": "stream",
     "text": [
      "task  C:\\Users\\Acer\\Desktop\\ARC Challenge\\Data\\parapraxis\\2022_07_31_01.json\n"
     ]
    },
    {
     "data": {
      "image/png": "[encoded data removed]",
      "text/plain": [
       "<Figure size 648x432 with 6 Axes>"
      ]
     },
     "metadata": {
      "needs_background": "light"
     },
     "output_type": "display_data"
    },
    {
     "data": {
      "image/png": "[encoded data removed]",
      "text/plain": [
       "<Figure size 432x648 with 2 Axes>"
      ]
     },
     "metadata": {
      "needs_background": "light"
     },
     "output_type": "display_data"
    }
   ],
   "source": [
    "task_file = fchoose.selected\n",
    "with open(task_file, 'r') as f:\n",
    "    task = json.load(f)\n",
    "    print(\"task \",task_file)\n",
    "    plot_task(task, [task_file])"
   ]
  }
 ],
 "metadata": {
  "kernelspec": {
   "display_name": "Python 3.9.7 ('base')",
   "language": "python",
   "name": "python3"
  },
  "language_info": {
   "codemirror_mode": {
    "name": "ipython",
    "version": 3
   },
   "file_extension": ".py",
   "mimetype": "text/x-python",
   "name": "python",
   "nbconvert_exporter": "python",
   "pygments_lexer": "ipython3",
   "version": "3.9.7"
  },
  "orig_nbformat": 4,
  "vscode": {
   "interpreter": {
    "hash": "ad2bdc8ecc057115af97d19610ffacc2b4e99fae6737bb82f5d7fb13d2f2c186"
   }
  }
 },
 "nbformat": 4,
 "nbformat_minor": 2
}
